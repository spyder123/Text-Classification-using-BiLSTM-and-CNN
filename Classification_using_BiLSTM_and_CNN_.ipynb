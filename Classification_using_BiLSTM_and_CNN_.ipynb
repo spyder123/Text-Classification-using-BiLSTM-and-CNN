{
  "cells": [
    {
      "cell_type": "code",
      "source": [
        "!pip install 'portalocker>=2.0.0'"
      ],
      "metadata": {
        "colab": {
          "base_uri": "https://localhost:8080/"
        },
        "id": "QDXOW57epTwM",
        "outputId": "730c6be2-0ec4-486f-9f7d-ec354372c329"
      },
      "execution_count": null,
      "outputs": [
        {
          "output_type": "stream",
          "name": "stdout",
          "text": [
            "Requirement already satisfied: portalocker>=2.0.0 in /usr/local/lib/python3.10/dist-packages (2.8.2)\n"
          ]
        }
      ]
    },
    {
      "cell_type": "markdown",
      "metadata": {
        "id": "rFGTxouro7bn"
      },
      "source": [
        "## Importing Libraries"
      ]
    },
    {
      "cell_type": "code",
      "execution_count": null,
      "metadata": {
        "colab": {
          "base_uri": "https://localhost:8080/"
        },
        "id": "sD7wEO1vo7bp",
        "outputId": "394ea413-c77c-4072-ebe1-20d72a79b29b"
      },
      "outputs": [
        {
          "output_type": "stream",
          "name": "stdout",
          "text": [
            "cpu\n"
          ]
        }
      ],
      "source": [
        "import torch, torchdata, torchtext\n",
        "from torch import nn\n",
        "\n",
        "import time\n",
        "\n",
        "device = torch.device('cpu')\n",
        "print(device)\n",
        "\n",
        "#make our work comparable if restarted the kernel\n",
        "SEED = 1234 #3 or 5 times - average results\n",
        "torch.manual_seed(SEED)\n",
        "torch.backends.cudnn.deterministic = True"
      ]
    },
    {
      "cell_type": "code",
      "execution_count": null,
      "metadata": {
        "colab": {
          "base_uri": "https://localhost:8080/"
        },
        "id": "AkMVtY0So7bq",
        "outputId": "93648190-ec78-4570-8337-641c92f9eaa1"
      },
      "outputs": [
        {
          "output_type": "execute_result",
          "data": {
            "text/plain": [
              "('2.1.0+cu121', '0.7.0', '0.16.0+cpu')"
            ]
          },
          "metadata": {},
          "execution_count": 3
        }
      ],
      "source": [
        "torch.__version__, torchdata.__version__, torchtext.__version__"
      ]
    },
    {
      "cell_type": "markdown",
      "metadata": {
        "tags": [],
        "id": "AZbHsDn0o7br"
      },
      "source": [
        "## Loading the Dataset"
      ]
    },
    {
      "cell_type": "code",
      "execution_count": null,
      "metadata": {
        "id": "ypGuhRFNo7br"
      },
      "outputs": [],
      "source": [
        "from torchtext.datasets import AG_NEWS\n",
        "train, test = AG_NEWS()"
      ]
    },
    {
      "cell_type": "code",
      "execution_count": null,
      "metadata": {
        "colab": {
          "base_uri": "https://localhost:8080/"
        },
        "id": "ghgzfNuXo7br",
        "outputId": "694f924f-ee9b-44fb-b05f-db697dafa42a"
      },
      "outputs": [
        {
          "output_type": "execute_result",
          "data": {
            "text/plain": [
              "ShardingFilterIterDataPipe"
            ]
          },
          "metadata": {},
          "execution_count": 5
        }
      ],
      "source": [
        "#so this is a datapipe object; very similar to pytorch dataset version 2 which is better\n",
        "train"
      ]
    },
    {
      "cell_type": "markdown",
      "metadata": {
        "tags": [],
        "id": "j4-xjSYAo7br"
      },
      "source": [
        "## Exploratory Data Analysis"
      ]
    },
    {
      "cell_type": "code",
      "execution_count": null,
      "metadata": {
        "colab": {
          "base_uri": "https://localhost:8080/"
        },
        "id": "YlosMjJ9o7br",
        "outputId": "17f994cf-8a2a-466d-d9c6-9b68e07ee500"
      },
      "outputs": [
        {
          "output_type": "execute_result",
          "data": {
            "text/plain": [
              "(3,\n",
              " \"Wall St. Bears Claw Back Into the Black (Reuters) Reuters - Short-sellers, Wall Street's dwindling\\\\band of ultra-cynics, are seeing green again.\")"
            ]
          },
          "metadata": {},
          "execution_count": 6
        }
      ],
      "source": [
        "#let's take a look at one example of train\n",
        "next(iter(train))"
      ]
    },
    {
      "cell_type": "code",
      "execution_count": null,
      "metadata": {
        "colab": {
          "base_uri": "https://localhost:8080/"
        },
        "id": "6krbBOxTo7bs",
        "outputId": "3ac08e37-e4ae-4381-8162-de3bc15cb298"
      },
      "outputs": [
        {
          "output_type": "stream",
          "name": "stderr",
          "text": [
            "/usr/local/lib/python3.10/dist-packages/torch/utils/data/datapipes/iter/combining.py:333: UserWarning: Some child DataPipes are not exhausted when __iter__ is called. We are resetting the buffer and each child DataPipe will read from the start again.\n",
            "  warnings.warn(\"Some child DataPipes are not exhausted when __iter__ is called. We are resetting \"\n"
          ]
        },
        {
          "output_type": "execute_result",
          "data": {
            "text/plain": [
              "{1, 2, 3, 4}"
            ]
          },
          "metadata": {},
          "execution_count": 7
        }
      ],
      "source": [
        "#let's check the unique label\n",
        "set([y for y, x in list(iter(train))])\n",
        "#{“World”, “Sports”, “Business”, “Sci/Tech”}"
      ]
    },
    {
      "cell_type": "code",
      "execution_count": null,
      "metadata": {
        "colab": {
          "base_uri": "https://localhost:8080/"
        },
        "id": "oGLdZCzjo7bs",
        "outputId": "23bcd0b6-dff5-4937-e2f3-7b075971aa2b"
      },
      "outputs": [
        {
          "output_type": "execute_result",
          "data": {
            "text/plain": [
              "120000"
            ]
          },
          "metadata": {},
          "execution_count": 8
        }
      ],
      "source": [
        "train_size = len(list(iter(train)))\n",
        "train_size"
      ]
    },
    {
      "cell_type": "markdown",
      "metadata": {
        "id": "-JHpnSoLo7bs"
      },
      "source": [
        "Since 120000 gonna just take up too much of our GPU, we gonna use only 10% of it for training."
      ]
    },
    {
      "cell_type": "code",
      "execution_count": null,
      "metadata": {
        "id": "lUWjJK_4o7bs"
      },
      "outputs": [],
      "source": [
        "#All DataPipe instance has a handy function called random_split\n",
        "too_much, train, valid = train.random_split(total_length=train_size,\n",
        "                                            weights = {\"too_much\": 0.85, \"smaller_train\": 0.1,\n",
        "                                                       \"valid\": 0.05}, seed=999)"
      ]
    },
    {
      "cell_type": "code",
      "execution_count": null,
      "metadata": {
        "colab": {
          "base_uri": "https://localhost:8080/"
        },
        "id": "y0vOAJtTo7bs",
        "outputId": "12f0f65e-b139-4dbd-bba4-c75a12721ad6"
      },
      "outputs": [
        {
          "output_type": "execute_result",
          "data": {
            "text/plain": [
              "12000"
            ]
          },
          "metadata": {},
          "execution_count": 10
        }
      ],
      "source": [
        "train_size = len(list(iter(train)))\n",
        "train_size"
      ]
    },
    {
      "cell_type": "code",
      "execution_count": null,
      "metadata": {
        "colab": {
          "base_uri": "https://localhost:8080/"
        },
        "id": "L7JkU6Xco7bt",
        "outputId": "41689896-0f1e-470c-85c2-64d43e770a76"
      },
      "outputs": [
        {
          "output_type": "execute_result",
          "data": {
            "text/plain": [
              "6000"
            ]
          },
          "metadata": {},
          "execution_count": 11
        }
      ],
      "source": [
        "val_size = len(list(iter(valid)))\n",
        "val_size"
      ]
    },
    {
      "cell_type": "code",
      "execution_count": null,
      "metadata": {
        "colab": {
          "base_uri": "https://localhost:8080/"
        },
        "id": "Ob42Sz_bo7bt",
        "outputId": "246284fe-f4ca-4bdb-9b31-aafa0d89efe7"
      },
      "outputs": [
        {
          "output_type": "execute_result",
          "data": {
            "text/plain": [
              "7600"
            ]
          },
          "metadata": {},
          "execution_count": 12
        }
      ],
      "source": [
        "test_size = len(list(iter(test)))\n",
        "test_size"
      ]
    },
    {
      "cell_type": "markdown",
      "source": [
        "## Preprocessing"
      ],
      "metadata": {
        "id": "FjtMfg6U-Suy"
      }
    },
    {
      "cell_type": "markdown",
      "metadata": {
        "tags": [],
        "id": "c2wFjt1xo7bt"
      },
      "source": [
        "### Tokenizing\n",
        "\n",
        "The first step is to decide which tokenizer we want to use, which depicts how we split our sentences."
      ]
    },
    {
      "cell_type": "code",
      "execution_count": null,
      "metadata": {
        "colab": {
          "base_uri": "https://localhost:8080/"
        },
        "id": "K82NUtRRo7bt",
        "outputId": "5392647f-487b-4ba0-cb41-38d40956481a"
      },
      "outputs": [
        {
          "output_type": "execute_result",
          "data": {
            "text/plain": [
              "['We', 'are', 'learning', 'NLP', '!']"
            ]
          },
          "metadata": {},
          "execution_count": 13
        }
      ],
      "source": [
        "#pip install spacy\n",
        "#python3 -m spacy download en_core_web_sm\n",
        "from torchtext.data.utils import get_tokenizer\n",
        "tokenizer = get_tokenizer('spacy', language='en_core_web_sm')\n",
        "tokens = tokenizer(\"We are learning NLP!\")  #some test\n",
        "tokens"
      ]
    },
    {
      "cell_type": "markdown",
      "metadata": {
        "id": "L-_mEmnJo7bt"
      },
      "source": [
        "### Text to Integers (Numeral)"
      ]
    },
    {
      "cell_type": "markdown",
      "metadata": {
        "id": "b1NRv75ro7bt"
      },
      "source": [
        "Next we gonna create function (torchtext called vocabs) that turn these tokens into integers.  Here we use built in factory function <code>build_vocab_from_iterator</code> which accepts iterator that yield list or iterator of tokens."
      ]
    },
    {
      "cell_type": "code",
      "execution_count": null,
      "metadata": {
        "id": "7X6vBJCJo7bt"
      },
      "outputs": [],
      "source": [
        "from torchtext.vocab import build_vocab_from_iterator\n",
        "def yield_tokens(data_iter):\n",
        "    for _, text in data_iter:\n",
        "        yield tokenizer(text)\n",
        "\n",
        "vocab = build_vocab_from_iterator(yield_tokens(train), specials=['<unk>', '<pad>', '<bos>', '<eos>'])\n",
        "vocab.set_default_index(vocab[\"<unk>\"])"
      ]
    },
    {
      "cell_type": "code",
      "execution_count": null,
      "metadata": {
        "colab": {
          "base_uri": "https://localhost:8080/"
        },
        "id": "Co2lt-YSo7bu",
        "outputId": "6e5a95f6-401e-45bb-ae70-84d6e17bd9a8"
      },
      "outputs": [
        {
          "output_type": "execute_result",
          "data": {
            "text/plain": [
              "[538, 28, 9, 6978, 2242]"
            ]
          },
          "metadata": {},
          "execution_count": 15
        }
      ],
      "source": [
        "#see some example\n",
        "vocab(['here', 'is', 'a', 'unknown', 'word'])"
      ]
    },
    {
      "cell_type": "code",
      "execution_count": null,
      "metadata": {
        "colab": {
          "base_uri": "https://localhost:8080/",
          "height": 36
        },
        "id": "5DworMsAo7bu",
        "outputId": "fc505871-a511-4370-801a-20b6788dce36"
      },
      "outputs": [
        {
          "output_type": "execute_result",
          "data": {
            "text/plain": [
              "'financial'"
            ],
            "application/vnd.google.colaboratory.intrinsic+json": {
              "type": "string"
            }
          },
          "metadata": {},
          "execution_count": 16
        }
      ],
      "source": [
        "#we can reverse it....\n",
        "mapping = vocab.get_itos()\n",
        "\n",
        "#print 159, for example\n",
        "mapping[509]"
      ]
    },
    {
      "cell_type": "code",
      "execution_count": null,
      "metadata": {
        "colab": {
          "base_uri": "https://localhost:8080/"
        },
        "id": "vHvSih_Ao7bu",
        "outputId": "636dbd92-e0dd-45c4-b788-0ee1d759a73e"
      },
      "outputs": [
        {
          "output_type": "execute_result",
          "data": {
            "text/plain": [
              "[1, 2, 3]"
            ]
          },
          "metadata": {},
          "execution_count": 17
        }
      ],
      "source": [
        "#let's try special symbols\n",
        "vocab(['<pad>', '<bos>', '<eos>'])"
      ]
    },
    {
      "cell_type": "code",
      "execution_count": null,
      "metadata": {
        "colab": {
          "base_uri": "https://localhost:8080/"
        },
        "id": "qj9qG5mUo7bu",
        "outputId": "a65c86fb-59b9-446f-a3df-28b427bf6f83"
      },
      "outputs": [
        {
          "output_type": "execute_result",
          "data": {
            "text/plain": [
              "38027"
            ]
          },
          "metadata": {},
          "execution_count": 18
        }
      ],
      "source": [
        "#so we can 50k+ unique vocabularies!\n",
        "len(vocab)"
      ]
    },
    {
      "cell_type": "markdown",
      "metadata": {
        "tags": [],
        "id": "PmqannKjo7bu"
      },
      "source": [
        "## FastText Embeddings"
      ]
    },
    {
      "cell_type": "code",
      "execution_count": null,
      "metadata": {
        "id": "K_An-UoCo7bu"
      },
      "outputs": [],
      "source": [
        "from torchtext.vocab import FastText\n",
        "fast_vectors = FastText(language='simple') #small for easy training"
      ]
    },
    {
      "cell_type": "code",
      "execution_count": null,
      "metadata": {
        "id": "eqEDwm3Ro7bu"
      },
      "outputs": [],
      "source": [
        "fast_embedding = fast_vectors.get_vecs_by_tokens(vocab.get_itos()).to(device)\n",
        "# vocab.get_itos() returns a list of strings (tokens), where the token at the i'th position is what you get from doing vocab[token]\n",
        "# get_vecs_by_tokens gets the pre-trained vector for each string when given a list of strings\n",
        "# therefore pretrained_embedding is a fully \"aligned\" embedding matrix"
      ]
    },
    {
      "cell_type": "code",
      "execution_count": null,
      "metadata": {
        "colab": {
          "base_uri": "https://localhost:8080/"
        },
        "id": "wtdHFDv2o7bv",
        "outputId": "9f618538-c1ae-4841-8fae-a21d93266dc7"
      },
      "outputs": [
        {
          "output_type": "execute_result",
          "data": {
            "text/plain": [
              "torch.Size([38027, 300])"
            ]
          },
          "metadata": {},
          "execution_count": 21
        }
      ],
      "source": [
        "fast_embedding.shape   #we have X vocabs, each with a 300 fasttext embedding"
      ]
    },
    {
      "cell_type": "markdown",
      "source": [
        "# 1. BiLSTM\n",
        "\n",
        "$$(h_t, c_t) = \\text{LSTM}(x_t, h_t, c_t)$$\n",
        "\n",
        "where\n",
        "\n",
        "$$\n",
        "\\begin{align*}\n",
        "i_t &= \\sigma(\\mathbf{W}_{ii}x_t + b_{ii} + \\mathbf{W}_{hi}h_{t-1} + b_{hi}) \\\\\n",
        "f_t &= \\sigma(\\mathbf{W}_{if}x_t + b_{if} + \\mathbf{W}_{hf}h_{t-1} + b_{hf})\\\\\n",
        "g_t &= \\text{tanh}(\\mathbf{W}_{ig}x_t + b_{ig} + \\mathbf{W}_{hg}h_{t-1} + b_{hg})\\\\\n",
        "o_t &= \\sigma(\\mathbf{W}_{io}x_t + b_{io} + \\mathbf{W}_{ho}h_{t-1} + b_{ho}) \\\\\n",
        "c_t &= f_t \\odot c_{t-1} + i_t \\odot g_t \\\\\n",
        "h_t &= o_t \\odot \\text{tanh}(c_t)\\\\\n",
        "\\end{align*}\n",
        "$$"
      ],
      "metadata": {
        "id": "sDTO1uJw-n5y"
      }
    },
    {
      "cell_type": "markdown",
      "source": [
        "## 1.1 Preparing the dataloader"
      ],
      "metadata": {
        "id": "oyFXeYB8-5W1"
      }
    },
    {
      "cell_type": "markdown",
      "source": [
        "In torchtext, first concern is to define the way we want to process the text and the label."
      ],
      "metadata": {
        "id": "4KP1Ecrv4pq0"
      }
    },
    {
      "cell_type": "code",
      "execution_count": null,
      "metadata": {
        "id": "bwEFIfI4o7bv"
      },
      "outputs": [],
      "source": [
        "text_pipeline  = lambda x: vocab(tokenizer(x))\n",
        "label_pipeline = lambda x: int(x) - 1 #turn {1, 2, 3, 4} to {0, 1, 2, 3} for pytorch training"
      ]
    },
    {
      "cell_type": "code",
      "execution_count": null,
      "metadata": {
        "colab": {
          "base_uri": "https://localhost:8080/"
        },
        "id": "vf_S19oSo7bv",
        "outputId": "717fcafb-a5ea-4938-9f89-3119ddf5d6eb"
      },
      "outputs": [
        {
          "output_type": "execute_result",
          "data": {
            "text/plain": [
              "[1867, 49, 19134, 0, 14, 263, 0, 6]"
            ]
          },
          "metadata": {},
          "execution_count": 23
        }
      ],
      "source": [
        "text_pipeline(\"We are implementing BiLSTM for news classification.\")"
      ]
    },
    {
      "cell_type": "code",
      "execution_count": null,
      "metadata": {
        "colab": {
          "base_uri": "https://localhost:8080/"
        },
        "id": "ThyQ1BtMo7bv",
        "outputId": "6e496dc7-e453-4998-838f-eb7996714a48"
      },
      "outputs": [
        {
          "output_type": "execute_result",
          "data": {
            "text/plain": [
              "0"
            ]
          },
          "metadata": {},
          "execution_count": 24
        }
      ],
      "source": [
        "label_pipeline('1')"
      ]
    },
    {
      "cell_type": "markdown",
      "source": [
        "Next, let's make the batch iterator.  Here we create a function <code>collate_fn</code> that define how we want to create our batch."
      ],
      "metadata": {
        "id": "29XMBhAr5M2u"
      }
    },
    {
      "cell_type": "code",
      "source": [
        "from torch.utils.data import DataLoader\n",
        "from torch.nn.utils.rnn import pad_sequence\n",
        "\n",
        "pad_idx = vocab['<pad>']\n",
        "\n",
        "def collate_batch(batch):\n",
        "    label_list, text_list, length_list = [], [], []\n",
        "    for (_label, _text) in batch:\n",
        "        label_list.append(label_pipeline(_label))\n",
        "        processed_text = torch.tensor(text_pipeline(_text), dtype=torch.int64)\n",
        "        text_list.append(processed_text)\n",
        "        length_list.append(processed_text.size(0))\n",
        "    return torch.tensor(label_list, dtype=torch.int64), pad_sequence(text_list, padding_value=pad_idx, batch_first=True), torch.tensor(length_list, dtype=torch.int64)"
      ],
      "metadata": {
        "id": "A9ChUBfr-4_2"
      },
      "execution_count": null,
      "outputs": []
    },
    {
      "cell_type": "code",
      "source": [
        "batch_size = 64\n",
        "\n",
        "train_loader = DataLoader(train, batch_size=batch_size, shuffle=True,  collate_fn=collate_batch)\n",
        "val_loader   = DataLoader(valid, batch_size=batch_size, shuffle=False, collate_fn=collate_batch)\n",
        "test_loader  = DataLoader(test,  batch_size=batch_size, shuffle=False, collate_fn=collate_batch)"
      ],
      "metadata": {
        "id": "8cHC6hz8_i-O"
      },
      "execution_count": null,
      "outputs": []
    },
    {
      "cell_type": "code",
      "source": [
        "for label, text, length in train_loader:\n",
        "    break"
      ],
      "metadata": {
        "id": "BpA3nCnJ_iyi"
      },
      "execution_count": null,
      "outputs": []
    },
    {
      "cell_type": "code",
      "source": [
        "label.shape #(batch_size, )"
      ],
      "metadata": {
        "colab": {
          "base_uri": "https://localhost:8080/"
        },
        "id": "vdgGV967_vY3",
        "outputId": "dd6c458f-7d57-4615-fd90-b7fbadb6e27b"
      },
      "execution_count": null,
      "outputs": [
        {
          "output_type": "execute_result",
          "data": {
            "text/plain": [
              "torch.Size([64])"
            ]
          },
          "metadata": {},
          "execution_count": 28
        }
      ]
    },
    {
      "cell_type": "code",
      "source": [
        "text.shape #(batch_size, seq len)"
      ],
      "metadata": {
        "colab": {
          "base_uri": "https://localhost:8080/"
        },
        "id": "3k_0xc2F_8Lv",
        "outputId": "95203407-595e-401f-c9d9-83984e11a48d"
      },
      "execution_count": null,
      "outputs": [
        {
          "output_type": "execute_result",
          "data": {
            "text/plain": [
              "torch.Size([64, 141])"
            ]
          },
          "metadata": {},
          "execution_count": 29
        }
      ]
    },
    {
      "cell_type": "code",
      "source": [
        "length.shape #(batch_size, )"
      ],
      "metadata": {
        "colab": {
          "base_uri": "https://localhost:8080/"
        },
        "id": "_DCes9Md_-bX",
        "outputId": "aadcb91e-a240-4700-8976-c5714de724d9"
      },
      "execution_count": null,
      "outputs": [
        {
          "output_type": "execute_result",
          "data": {
            "text/plain": [
              "torch.Size([64])"
            ]
          },
          "metadata": {},
          "execution_count": 30
        }
      ]
    },
    {
      "cell_type": "markdown",
      "source": [
        "## 1.2 Designing the model"
      ],
      "metadata": {
        "id": "fWB4j5xNAGsJ"
      }
    },
    {
      "cell_type": "code",
      "source": [
        "import torch.nn as nn\n",
        "\n",
        "class LSTM(nn.Module):\n",
        "    def __init__(self, input_dim, emb_dim, hid_dim, num_layers,\n",
        "                 bidirectional, dropout, output_dim):\n",
        "        super(LSTM, self).__init__()\n",
        "        self.embedding = nn.Embedding(input_dim, emb_dim, padding_idx=pad_idx)\n",
        "        self.lstm      = nn.LSTM(\n",
        "                            emb_dim,\n",
        "                            hid_dim,\n",
        "                            num_layers=num_layers,\n",
        "                            bidirectional=bidirectional,\n",
        "                            dropout = dropout,\n",
        "                            batch_first = True\n",
        "                        )\n",
        "        self.fc        = nn.Linear(hid_dim * 2, output_dim)\n",
        "\n",
        "    def forward(self, text, text_length):\n",
        "        #text = [batch_size, seq len]\n",
        "        embedded = self.embedding(text)\n",
        "        #text = [batch_size, seq len, emb_dim]\n",
        "\n",
        "        #pack sequence\n",
        "        packed_embedded = nn.utils.rnn.pack_padded_sequence(embedded, text_length.to(device),\n",
        "                                                            enforce_sorted=False, batch_first=True)\n",
        "\n",
        "        packed_output, (hn, cn) = self.lstm(packed_embedded)\n",
        "        #output is basically all the hidden states;  hn is only last hidden state; cn is last cell state\n",
        "\n",
        "        output, output_lengths = nn.utils.rnn.pad_packed_sequence(packed_output, batch_first=True)\n",
        "        #output = [batch_size, seq len, hidden_dim * num directions]\n",
        "        #hn     = [num_layers * num_directions, batch_size,  hid_dim]  #3 layers birectional - hn1f, hn1b, hn2f, hn2b, hn3f, hn3b\n",
        "        #cn     = [num_layers * num_directions, batch_size,  hid_dim]\n",
        "\n",
        "        hn      = torch.cat((hn[-2, :, :], hn[-1, :, :]), dim = 1)\n",
        "        #hn     = [batch_size, hidden_dim * num_directions]\n",
        "\n",
        "        return self.fc(hn)"
      ],
      "metadata": {
        "id": "4YGu8IP1AM1A"
      },
      "execution_count": null,
      "outputs": []
    },
    {
      "cell_type": "markdown",
      "source": [
        "## 1.3 Training"
      ],
      "metadata": {
        "id": "AoiKwH7VAU2j"
      }
    },
    {
      "cell_type": "code",
      "source": [
        "def initialize_weight(m):\n",
        "    if isinstance(m, nn.Linear):\n",
        "        nn.init.xavier_normal_(m.weight)\n",
        "        nn.init.zeros_(m.bias)\n",
        "    elif isinstance(m, nn.LSTM):\n",
        "        for name, param in m.named_parameters():\n",
        "            if 'bias' in name:\n",
        "                nn.init.zeros_(param)\n",
        "            elif 'weight' in name:\n",
        "                nn.init.orthogonal_(param)"
      ],
      "metadata": {
        "id": "vpCciFGqAYTx"
      },
      "execution_count": null,
      "outputs": []
    },
    {
      "cell_type": "code",
      "source": [
        "input_dim = len(vocab)\n",
        "hid_dim   = 256\n",
        "emb_dim   = 300 #fasttext\n",
        "output_dim = 4 #four types of news\n",
        "\n",
        "num_layers = 2\n",
        "bidirectional = True\n",
        "dropout    = 0.5\n",
        "\n",
        "model = LSTM(input_dim, emb_dim, hid_dim, num_layers, bidirectional, dropout, output_dim).to(device)\n",
        "model.apply(initialize_weight)\n",
        "model.embedding.weight.data = fast_embedding"
      ],
      "metadata": {
        "id": "AxDxsWJYAghR"
      },
      "execution_count": null,
      "outputs": []
    },
    {
      "cell_type": "code",
      "source": [
        "import torch.optim as optim\n",
        "lr = 1e-3\n",
        "optimizer = optim.Adam(model.parameters(), lr=lr)\n",
        "criterion = nn.CrossEntropyLoss()"
      ],
      "metadata": {
        "id": "B6LDz4suAlUq"
      },
      "execution_count": null,
      "outputs": []
    },
    {
      "cell_type": "code",
      "source": [
        "def accuracy(preds, y):\n",
        "    predicted  = torch.max(preds.data, 1)[1]\n",
        "    batch_corr = (predicted == y).sum()\n",
        "    acc        = batch_corr / len(y)\n",
        "    return acc"
      ],
      "metadata": {
        "id": "6PXXoZ2QArwM"
      },
      "execution_count": null,
      "outputs": []
    },
    {
      "cell_type": "code",
      "source": [
        "def train(model, loader, optimizer, criterion, loader_length):\n",
        "    epoch_loss = 0\n",
        "    epoch_acc  = 0\n",
        "    model.train()\n",
        "\n",
        "    for i, (label, text, text_length) in enumerate(loader):\n",
        "        label = label.to(device)\n",
        "        text  = text.to(device)\n",
        "\n",
        "        predictions = model(text, text_length).squeeze(1)\n",
        "\n",
        "        loss = criterion(predictions, label)\n",
        "        acc  = accuracy(predictions, label)\n",
        "\n",
        "        #backprop\n",
        "        optimizer.zero_grad()\n",
        "        loss.backward()\n",
        "        optimizer.step()\n",
        "\n",
        "        epoch_loss += loss.item()\n",
        "        epoch_acc  += acc.item()\n",
        "\n",
        "    return epoch_loss / loader_length, epoch_acc / loader_length"
      ],
      "metadata": {
        "id": "6Rfit8dZAu08"
      },
      "execution_count": null,
      "outputs": []
    },
    {
      "cell_type": "code",
      "source": [
        "def evaluate(model, loader, criterion, loader_length):\n",
        "    epoch_loss = 0\n",
        "    epoch_acc  = 0\n",
        "    model.eval()\n",
        "\n",
        "    with torch.no_grad():\n",
        "        for i, (label, text, text_length) in enumerate(loader):\n",
        "            label = label.to(device)\n",
        "            text  = text.to(device)\n",
        "\n",
        "            predictions = model(text, text_length).squeeze(1)\n",
        "\n",
        "            loss = criterion(predictions, label)\n",
        "            acc  = accuracy(predictions, label)\n",
        "\n",
        "            epoch_loss += loss.item()\n",
        "            epoch_acc  += acc.item()\n",
        "\n",
        "    return epoch_loss / loader_length, epoch_acc / loader_length"
      ],
      "metadata": {
        "id": "s72fcwEKAyO1"
      },
      "execution_count": null,
      "outputs": []
    },
    {
      "cell_type": "code",
      "source": [
        "train_loader_length = len(list(iter(train_loader)))\n",
        "val_loader_length   = len(list(iter(val_loader)))\n",
        "test_loader_length  = len(list(iter(test_loader)))"
      ],
      "metadata": {
        "colab": {
          "base_uri": "https://localhost:8080/"
        },
        "id": "OgWafxqcA1t3",
        "outputId": "f9cdda40-5a93-4cdb-a732-eac59b44a9ce"
      },
      "execution_count": null,
      "outputs": [
        {
          "output_type": "stream",
          "name": "stderr",
          "text": [
            "/usr/local/lib/python3.10/dist-packages/torch/utils/data/datapipes/iter/combining.py:333: UserWarning: Some child DataPipes are not exhausted when __iter__ is called. We are resetting the buffer and each child DataPipe will read from the start again.\n",
            "  warnings.warn(\"Some child DataPipes are not exhausted when __iter__ is called. We are resetting \"\n"
          ]
        }
      ]
    },
    {
      "cell_type": "code",
      "source": [
        "def epoch_time(start_time, end_time):\n",
        "    elapsed_time = end_time - start_time\n",
        "    elapsed_mins = int(elapsed_time / 60)\n",
        "    elapsed_secs = int(elapsed_time - (elapsed_mins * 60))\n",
        "    return elapsed_mins, elapsed_secs"
      ],
      "metadata": {
        "id": "v-JoxASLA42D"
      },
      "execution_count": null,
      "outputs": []
    },
    {
      "cell_type": "code",
      "source": [
        "import time\n",
        "\n",
        "best_valid_loss = float('inf')\n",
        "num_epochs      = 5\n",
        "\n",
        "save_path       = f'{model.__class__.__name__}.pt'\n",
        "\n",
        "train_losses, train_accs, val_losses, val_accs = [],[],[],[]\n",
        "\n",
        "for epoch in range(num_epochs):\n",
        "    start_time = time.time()\n",
        "\n",
        "    train_loss, train_acc = train(model, train_loader, optimizer, criterion, train_loader_length)\n",
        "    valid_loss, valid_acc = train(model, val_loader,   optimizer, criterion, val_loader_length)\n",
        "\n",
        "    #for plotting\n",
        "    train_losses.append(train_loss)\n",
        "    train_accs.append(train_acc)\n",
        "    val_losses.append(valid_loss)\n",
        "    val_accs.append(valid_acc)\n",
        "\n",
        "    end_time = time.time()\n",
        "\n",
        "    epoch_mins, epoch_secs = epoch_time(start_time, end_time)\n",
        "\n",
        "    #early stopping\n",
        "    if valid_loss < best_valid_loss:\n",
        "        best_valid_loss = valid_loss\n",
        "        torch.save(model.state_dict(), save_path)\n",
        "\n",
        "    print(f'Epoch: {epoch+1} | Time: {epoch_mins}m {epoch_secs}s')\n",
        "    print(f'\\tTrain Loss: {train_loss:.3f} | Train Acc: {train_acc*100:.2f}%')\n",
        "    print(f'\\tVal.  Loss: {valid_loss:.3f} | Val Acc: {valid_acc*100:.2f}%')"
      ],
      "metadata": {
        "id": "3PO6FgxcA5dZ",
        "colab": {
          "base_uri": "https://localhost:8080/"
        },
        "outputId": "56bd31dd-227a-4691-e1d9-4b92a87459a6"
      },
      "execution_count": null,
      "outputs": [
        {
          "output_type": "stream",
          "name": "stdout",
          "text": [
            "Epoch: 1 | Time: 9m 12s\n",
            "\tTrain Loss: 0.647 | Train Acc: 74.53%\n",
            "\tVal.  Loss: 0.373 | Val Acc: 86.92%\n",
            "Epoch: 2 | Time: 9m 2s\n",
            "\tTrain Loss: 0.219 | Train Acc: 92.50%\n",
            "\tVal.  Loss: 0.181 | Val Acc: 93.88%\n",
            "Epoch: 3 | Time: 9m 3s\n",
            "\tTrain Loss: 0.105 | Train Acc: 96.53%\n",
            "\tVal.  Loss: 0.125 | Val Acc: 95.83%\n",
            "Epoch: 4 | Time: 9m 15s\n",
            "\tTrain Loss: 0.063 | Train Acc: 97.99%\n",
            "\tVal.  Loss: 0.074 | Val Acc: 97.61%\n",
            "Epoch: 5 | Time: 9m 10s\n",
            "\tTrain Loss: 0.032 | Train Acc: 98.89%\n",
            "\tVal.  Loss: 0.038 | Val Acc: 98.82%\n"
          ]
        }
      ]
    },
    {
      "cell_type": "markdown",
      "source": [
        "## 1.4 Plotting loss and accuracy"
      ],
      "metadata": {
        "id": "PiihcZYwCGEp"
      }
    },
    {
      "cell_type": "code",
      "source": [
        "import matplotlib.pyplot as plt\n",
        "fig = plt.figure(figsize=(10, 6))\n",
        "ax = fig.add_subplot(1, 1, 1)\n",
        "ax.plot(train_losses, label = 'train loss')\n",
        "ax.plot(val_losses, label = 'valid loss')\n",
        "plt.legend()\n",
        "ax.set_xlabel('updates')\n",
        "ax.set_ylabel('loss')"
      ],
      "metadata": {
        "id": "G8T1fSeCCMtx",
        "colab": {
          "base_uri": "https://localhost:8080/",
          "height": 560
        },
        "outputId": "ca7ea71b-1464-4e31-c05f-2da7182249b9"
      },
      "execution_count": null,
      "outputs": [
        {
          "output_type": "execute_result",
          "data": {
            "text/plain": [
              "Text(0, 0.5, 'loss')"
            ]
          },
          "metadata": {},
          "execution_count": 41
        },
        {
          "output_type": "display_data",
          "data": {
            "text/plain": [
              "<Figure size 1000x600 with 1 Axes>"
            ],
            "image/png": "[encoded data removed]"
          },
          "metadata": {}
        }
      ]
    },
    {
      "cell_type": "code",
      "source": [
        "fig = plt.figure(figsize=(10, 6))\n",
        "ax = fig.add_subplot(1, 1, 1)\n",
        "ax.plot(train_accs, label = 'train acc')\n",
        "ax.plot(val_accs, label = 'valid acc')\n",
        "plt.legend()\n",
        "ax.set_xlabel('updates')\n",
        "ax.set_ylabel('acc')"
      ],
      "metadata": {
        "id": "AumryT_WCNIU",
        "colab": {
          "base_uri": "https://localhost:8080/",
          "height": 563
        },
        "outputId": "643872d1-480f-471c-9749-bcf3d4707a57"
      },
      "execution_count": null,
      "outputs": [
        {
          "output_type": "execute_result",
          "data": {
            "text/plain": [
              "Text(0, 0.5, 'acc')"
            ]
          },
          "metadata": {},
          "execution_count": 42
        },
        {
          "output_type": "display_data",
          "data": {
            "text/plain": [
              "<Figure size 1000x600 with 1 Axes>"
            ],
            "image/png": "[encoded data removed]"
          },
          "metadata": {}
        }
      ]
    },
    {
      "cell_type": "code",
      "source": [
        "model.load_state_dict(torch.load(save_path))\n",
        "\n",
        "test_loss, test_acc = evaluate(model, test_loader, criterion, test_loader_length)\n",
        "\n",
        "print(f'Test Loss: {test_loss:.3f} | Test Acc: {test_acc*100:.2f}%')"
      ],
      "metadata": {
        "id": "ZdBfQ1_lCTtP",
        "colab": {
          "base_uri": "https://localhost:8080/"
        },
        "outputId": "e1be0bbf-b80f-4321-8859-b3ff7625bb83"
      },
      "execution_count": null,
      "outputs": [
        {
          "output_type": "stream",
          "name": "stdout",
          "text": [
            "Test Loss: 0.602 | Test Acc: 85.96%\n"
          ]
        }
      ]
    },
    {
      "cell_type": "markdown",
      "source": [
        "## 1.5 Testing on some random news"
      ],
      "metadata": {
        "id": "gzZztHpvCkZR"
      }
    },
    {
      "cell_type": "code",
      "source": [
        "test_str = \"Google is now falling nonstop. The price is really bad now.\"\n",
        "text = torch.tensor(text_pipeline(test_str)).to(device)\n",
        "text"
      ],
      "metadata": {
        "id": "x94uyYgjCkHW",
        "colab": {
          "base_uri": "https://localhost:8080/"
        },
        "outputId": "3460b93d-81de-49c3-a366-e6993fdbeb54"
      },
      "execution_count": null,
      "outputs": [
        {
          "output_type": "execute_result",
          "data": {
            "text/plain": [
              "tensor([ 180,   28,  250, 1996, 8501,    6,   21,  424,   28, 2231, 1562,  250,\n",
              "           6])"
            ]
          },
          "metadata": {},
          "execution_count": 44
        }
      ]
    },
    {
      "cell_type": "code",
      "source": [
        "text_list = [x.item() for x in text]\n",
        "text_list"
      ],
      "metadata": {
        "id": "iLRzItSBCsNj",
        "colab": {
          "base_uri": "https://localhost:8080/"
        },
        "outputId": "e636e5ce-9322-4516-f263-a2fc586c98f0"
      },
      "execution_count": null,
      "outputs": [
        {
          "output_type": "execute_result",
          "data": {
            "text/plain": [
              "[180, 28, 250, 1996, 8501, 6, 21, 424, 28, 2231, 1562, 250, 6]"
            ]
          },
          "metadata": {},
          "execution_count": 45
        }
      ]
    },
    {
      "cell_type": "code",
      "source": [
        "[mapping[num] for num in text_list]"
      ],
      "metadata": {
        "id": "7t7A8rf3CveD",
        "colab": {
          "base_uri": "https://localhost:8080/"
        },
        "outputId": "95d4c7b1-b914-4c18-8af0-db05a492775b"
      },
      "execution_count": null,
      "outputs": [
        {
          "output_type": "execute_result",
          "data": {
            "text/plain": [
              "['Google',\n",
              " 'is',\n",
              " 'now',\n",
              " 'falling',\n",
              " 'nonstop',\n",
              " '.',\n",
              " 'The',\n",
              " 'price',\n",
              " 'is',\n",
              " 'really',\n",
              " 'bad',\n",
              " 'now',\n",
              " '.']"
            ]
          },
          "metadata": {},
          "execution_count": 46
        }
      ]
    },
    {
      "cell_type": "code",
      "source": [
        "text = text.reshape(1, -1)  #because batch_size is 1"
      ],
      "metadata": {
        "id": "IeJyk6VECxcZ"
      },
      "execution_count": null,
      "outputs": []
    },
    {
      "cell_type": "code",
      "source": [
        "text_length = torch.tensor([text.size(1)]).to(dtype=torch.int64)"
      ],
      "metadata": {
        "id": "l2xrHMpYC07L"
      },
      "execution_count": null,
      "outputs": []
    },
    {
      "cell_type": "code",
      "source": [
        "text.shape"
      ],
      "metadata": {
        "id": "hRD4gnyzC4di",
        "colab": {
          "base_uri": "https://localhost:8080/"
        },
        "outputId": "ee9b93e5-c28f-4e4e-d69a-87f5ef02e0eb"
      },
      "execution_count": null,
      "outputs": [
        {
          "output_type": "execute_result",
          "data": {
            "text/plain": [
              "torch.Size([1, 13])"
            ]
          },
          "metadata": {},
          "execution_count": 50
        }
      ]
    },
    {
      "cell_type": "code",
      "source": [
        "def predict(text, text_length):\n",
        "    with torch.no_grad():\n",
        "        output = model(text, text_length).squeeze(1)\n",
        "        predicted = torch.max(output.data, 1)[1]\n",
        "        return predicted"
      ],
      "metadata": {
        "id": "GUAJ3Gq0C5Fm"
      },
      "execution_count": null,
      "outputs": []
    },
    {
      "cell_type": "code",
      "source": [
        "predict(text, text_length) #2=business"
      ],
      "metadata": {
        "id": "f1BAv1FvC8dz",
        "colab": {
          "base_uri": "https://localhost:8080/"
        },
        "outputId": "0fd96607-84a2-4cdd-ed3e-fed7ec980d66"
      },
      "execution_count": null,
      "outputs": [
        {
          "output_type": "execute_result",
          "data": {
            "text/plain": [
              "tensor([2])"
            ]
          },
          "metadata": {},
          "execution_count": 51
        }
      ]
    },
    {
      "cell_type": "markdown",
      "source": [
        "# 2. CNN\n",
        "\n",
        "In the same way that a 3x3 filter can look over a patch of an image, a 1x2 filter can look over a 2 sequential words in a piece of text, i.e. a bi-gram. In this part, we will use multiple filters of different sizes which will look at the bi-grams (a 1x2 filter), tri-grams (a 1x3 filter) and/or n-grams (a 1x$n$ filter) within the text.\n",
        "\n",
        "The intuition here is that the appearance of certain bi-grams, tri-grams and n-grams within the text will be a good indication of the news classification."
      ],
      "metadata": {
        "id": "YG7LdELY9tZ4"
      }
    },
    {
      "cell_type": "markdown",
      "metadata": {
        "tags": [],
        "id": "zmT0e53Zo7bv"
      },
      "source": [
        "## 2.1 Preparing the dataloader"
      ]
    },
    {
      "cell_type": "code",
      "source": [
        "text_pipeline  = lambda x: vocab(tokenizer(x))\n",
        "label_pipeline = lambda x: int(x) - 1 #turn {1, 2, 3, 4} to {0, 1, 2, 3} for pytorch training"
      ],
      "metadata": {
        "id": "w0qSbESLBop_"
      },
      "execution_count": null,
      "outputs": []
    },
    {
      "cell_type": "code",
      "source": [
        "text_pipeline(\"We are implementing CNN for news classification.\")"
      ],
      "metadata": {
        "colab": {
          "base_uri": "https://localhost:8080/"
        },
        "id": "daK61wPfBpxR",
        "outputId": "7e751818-c4e4-4dc0-ca8a-14586d96e036"
      },
      "execution_count": null,
      "outputs": [
        {
          "output_type": "execute_result",
          "data": {
            "text/plain": [
              "[1867, 49, 19134, 2026, 14, 263, 0, 6]"
            ]
          },
          "metadata": {},
          "execution_count": 23
        }
      ]
    },
    {
      "cell_type": "code",
      "source": [
        "label_pipeline('1')"
      ],
      "metadata": {
        "colab": {
          "base_uri": "https://localhost:8080/"
        },
        "id": "gJO2ulZ1Bplb",
        "outputId": "bdae0c0b-7f76-40c0-9d0a-d4fc86e32f0a"
      },
      "execution_count": null,
      "outputs": [
        {
          "output_type": "execute_result",
          "data": {
            "text/plain": [
              "0"
            ]
          },
          "metadata": {},
          "execution_count": 24
        }
      ]
    },
    {
      "cell_type": "markdown",
      "metadata": {
        "id": "iC1LBtsbo7bv"
      },
      "source": [
        "Since we are using CNN, we don't need the lengths which are needed for LSTM when we use pad_packed_sequence."
      ]
    },
    {
      "cell_type": "code",
      "execution_count": null,
      "metadata": {
        "id": "5iZrfGJTo7bv"
      },
      "outputs": [],
      "source": [
        "from torch.utils.data   import DataLoader\n",
        "from torch.nn.utils.rnn import pad_sequence\n",
        "\n",
        "pad_idx = vocab['<pad>']\n",
        "\n",
        "def collate_batch(batch):\n",
        "    label_list, text_list = [], []\n",
        "    for (_label, _text) in batch:\n",
        "        label_list.append(label_pipeline(_label))\n",
        "        processed_text = torch.tensor(text_pipeline(_text), dtype=torch.int64)\n",
        "        text_list.append(processed_text)\n",
        "    #criterion expects float labels\n",
        "    return torch.tensor(label_list, dtype=torch.int64), pad_sequence(text_list, padding_value=pad_idx, batch_first=True)"
      ]
    },
    {
      "cell_type": "code",
      "execution_count": null,
      "metadata": {
        "id": "ElX1OgRPo7b2"
      },
      "outputs": [],
      "source": [
        "batch_size = 64\n",
        "\n",
        "train_loader = DataLoader(train, batch_size=batch_size, shuffle=True,  collate_fn=collate_batch)\n",
        "valid_loader = DataLoader(valid, batch_size=batch_size, shuffle=False, collate_fn=collate_batch)\n",
        "test_loader  = DataLoader(test,  batch_size=batch_size, shuffle=False, collate_fn=collate_batch)"
      ]
    },
    {
      "cell_type": "markdown",
      "metadata": {
        "id": "FkBVer5qo7b3"
      },
      "source": [
        "Let's test the train loader.  Note that {“World”, “Sports”, “Business”, “Sci/Tech”} maps to {0, 1, 2, 3}"
      ]
    },
    {
      "cell_type": "code",
      "execution_count": null,
      "metadata": {
        "id": "cwNxyGiJo7b3"
      },
      "outputs": [],
      "source": [
        "for label, text in train_loader:\n",
        "    break"
      ]
    },
    {
      "cell_type": "code",
      "execution_count": null,
      "metadata": {
        "colab": {
          "base_uri": "https://localhost:8080/"
        },
        "id": "ti3BBsIjo7b3",
        "outputId": "75e8aa6d-38c2-4fab-de1b-36d90276e067"
      },
      "outputs": [
        {
          "output_type": "stream",
          "name": "stdout",
          "text": [
            "Label shape:  torch.Size([64])\n",
            "Text shape:  torch.Size([64, 141])\n"
          ]
        }
      ],
      "source": [
        "print(\"Label shape: \", label.shape) # (batch_size, )\n",
        "print(\"Text shape: \", text.shape)   # (batch_size, seq len)"
      ]
    },
    {
      "cell_type": "markdown",
      "metadata": {
        "id": "85TwRc24o7b3"
      },
      "source": [
        "## 2.2 Designing the model"
      ]
    },
    {
      "cell_type": "code",
      "execution_count": null,
      "metadata": {
        "id": "vUENhRDdo7b3"
      },
      "outputs": [],
      "source": [
        "import torch.nn as nn\n",
        "import torch.nn.functional as F\n",
        "\n",
        "class CNN(nn.Module):\n",
        "    def __init__(self, input_dim, emb_dim, output_dim, dropout, n_filters, filter_sizes):\n",
        "        super(CNN, self).__init__()\n",
        "        self.embedding = nn.Embedding(input_dim, emb_dim, padding_idx=pad_idx)\n",
        "\n",
        "        self.conv_0 = nn.Conv2d(in_channels=1, out_channels=n_filters,\n",
        "                                kernel_size=(filter_sizes[0], emb_dim))\n",
        "\n",
        "        self.conv_1 = nn.Conv2d(in_channels=1, out_channels=n_filters,\n",
        "                                kernel_size=(filter_sizes[1], emb_dim))\n",
        "\n",
        "        self.conv_2 = nn.Conv2d(in_channels=1, out_channels=n_filters,\n",
        "                                kernel_size=(filter_sizes[2], emb_dim))\n",
        "\n",
        "        self.fc = nn.Linear(len(filter_sizes) * n_filters, output_dim)\n",
        "        self.dropout = nn.Dropout(dropout)\n",
        "\n",
        "    def forward(self, text):\n",
        "        #text = [batch_size, seq len]\n",
        "        #1. embed\n",
        "        embedded = self.embedding(text)\n",
        "        #embedded = [batch_size, seq len, emb_size]\n",
        "        embedded = embedded.unsqueeze(1)\n",
        "        #embedded = [batch_size, 1, seq len, emb_size]\n",
        "        #2. convolute\n",
        "        conved_0 = F.relu(self.conv_0(embedded).squeeze(3))\n",
        "        conved_1 = F.relu(self.conv_1(embedded).squeeze(3))\n",
        "        conved_2 = F.relu(self.conv_2(embedded).squeeze(3))\n",
        "        #before squeeze = conved0_n = [batch_size, n_filters, seq_len - filter_size[n] + 1, 1]\n",
        "        #after  squeeze = conved0_n = [batch_size, n_filters, seq_len - filter_size[n] + 1]\n",
        "\n",
        "        #3. maxpool\n",
        "        pooled_0 = F.max_pool1d(conved_0, conved_0.shape[2]).squeeze(2)\n",
        "        pooled_1 = F.max_pool1d(conved_1, conved_1.shape[2]).squeeze(2)\n",
        "        pooled_2 = F.max_pool1d(conved_2, conved_2.shape[2]).squeeze(2)\n",
        "        #before squeeze = [batch_size, n_filters, 1]\n",
        "        #after  squeeze = [batch_size, n_filters]\n",
        "\n",
        "        #dropout\n",
        "        cat = self.dropout(torch.cat((pooled_0, pooled_1, pooled_2), dim = 1))\n",
        "\n",
        "        #4. fc\n",
        "        return self.fc(cat)"
      ]
    },
    {
      "cell_type": "markdown",
      "metadata": {
        "id": "oatG-BbTo7b3"
      },
      "source": [
        "### Let's see how each layer works"
      ]
    },
    {
      "cell_type": "code",
      "execution_count": null,
      "metadata": {
        "id": "3JfAq3Z6o7b4"
      },
      "outputs": [],
      "source": [
        "batch_size, seq_len = 64, 456\n",
        "input_dim = len(vocab)\n",
        "\n",
        "input_test = torch.randint(1, input_dim, (batch_size, seq_len))"
      ]
    },
    {
      "cell_type": "code",
      "execution_count": null,
      "metadata": {
        "id": "YJ5RqtCho7b4"
      },
      "outputs": [],
      "source": [
        "embed = nn.Embedding(input_dim, 300)"
      ]
    },
    {
      "cell_type": "code",
      "execution_count": null,
      "metadata": {
        "id": "X1mifn05o7b4"
      },
      "outputs": [],
      "source": [
        "embedded = embed(input_test)"
      ]
    },
    {
      "cell_type": "code",
      "execution_count": null,
      "metadata": {
        "colab": {
          "base_uri": "https://localhost:8080/"
        },
        "id": "AtsPiQzDo7b4",
        "outputId": "4e229968-49c5-4b87-a940-929ae5c67ff4"
      },
      "outputs": [
        {
          "output_type": "execute_result",
          "data": {
            "text/plain": [
              "torch.Size([64, 456, 300])"
            ]
          },
          "metadata": {},
          "execution_count": 33
        }
      ],
      "source": [
        "embedded.shape #[batch_size, seq len, emb_size]"
      ]
    },
    {
      "cell_type": "code",
      "execution_count": null,
      "metadata": {
        "id": "OwWIyMM-o7b4"
      },
      "outputs": [],
      "source": [
        "embedded = embedded.unsqueeze(1)"
      ]
    },
    {
      "cell_type": "code",
      "execution_count": null,
      "metadata": {
        "colab": {
          "base_uri": "https://localhost:8080/"
        },
        "id": "GGNG383ho7b4",
        "outputId": "e9415ae6-aa29-4bce-be04-9ee6594e1f77"
      },
      "outputs": [
        {
          "output_type": "execute_result",
          "data": {
            "text/plain": [
              "torch.Size([64, 1, 456, 300])"
            ]
          },
          "metadata": {},
          "execution_count": 35
        }
      ],
      "source": [
        "embedded.shape"
      ]
    },
    {
      "cell_type": "code",
      "execution_count": null,
      "metadata": {
        "id": "eWgGN4o3o7b5"
      },
      "outputs": [],
      "source": [
        "n_filters = 100\n",
        "filter_sizes = [3, 4, 5]\n",
        "emb_dim   = 300\n",
        "conv_0 = nn.Conv2d(in_channels=1, out_channels=n_filters,\n",
        "                                kernel_size=(filter_sizes[0], emb_dim))"
      ]
    },
    {
      "cell_type": "code",
      "execution_count": null,
      "metadata": {
        "id": "qAoDdaKVo7b5"
      },
      "outputs": [],
      "source": [
        "conved_0 = F.relu(conv_0(embedded).squeeze(3))"
      ]
    },
    {
      "cell_type": "code",
      "execution_count": null,
      "metadata": {
        "colab": {
          "base_uri": "https://localhost:8080/"
        },
        "id": "r3Mh3cTFo7b5",
        "outputId": "59c761b0-bd8f-4134-d1ca-2032cc04ea83"
      },
      "outputs": [
        {
          "output_type": "execute_result",
          "data": {
            "text/plain": [
              "torch.Size([64, 100, 454])"
            ]
          },
          "metadata": {},
          "execution_count": 38
        }
      ],
      "source": [
        "conved_0.shape #conved0_n = [batch_size, n_filters, seq_len - filter_size[n] + 1]"
      ]
    },
    {
      "cell_type": "code",
      "execution_count": null,
      "metadata": {
        "id": "RJSKFn6Oo7b5"
      },
      "outputs": [],
      "source": [
        "pooled_0 = F.max_pool1d(conved_0, conved_0.shape[2]).squeeze(2)"
      ]
    },
    {
      "cell_type": "code",
      "execution_count": null,
      "metadata": {
        "colab": {
          "base_uri": "https://localhost:8080/"
        },
        "id": "aoTFxu7Io7b5",
        "outputId": "1f5cf6b4-9b18-408a-f9b8-b7a8bce13b33"
      },
      "outputs": [
        {
          "output_type": "execute_result",
          "data": {
            "text/plain": [
              "torch.Size([64, 100])"
            ]
          },
          "metadata": {},
          "execution_count": 41
        }
      ],
      "source": [
        "pooled_0.shape"
      ]
    },
    {
      "cell_type": "markdown",
      "metadata": {
        "id": "9iXoRqmAo7b6"
      },
      "source": [
        "### Using `nn.ModuleList`"
      ]
    },
    {
      "cell_type": "code",
      "execution_count": null,
      "metadata": {
        "id": "Ers-pMX_o7b6"
      },
      "outputs": [],
      "source": [
        "class CNN(nn.Module): #more elegant version\n",
        "    def __init__(self, input_dim, emb_dim, output_dim, dropout, n_filters, filter_sizes):\n",
        "\n",
        "        super().__init__()\n",
        "\n",
        "        self.embedding = nn.Embedding(input_dim, emb_dim, padding_idx=pad_idx)\n",
        "        self.convs = nn.ModuleList([\n",
        "                                    nn.Conv2d(in_channels = 1,\n",
        "                                              out_channels = n_filters,\n",
        "                                              kernel_size = (fs, emb_dim))\n",
        "                                    for fs in filter_sizes\n",
        "                                    ])\n",
        "\n",
        "        self.fc = nn.Linear(len(filter_sizes) * n_filters, output_dim)\n",
        "        self.dropout = nn.Dropout(dropout)\n",
        "\n",
        "    def forward(self, text):\n",
        "\n",
        "        #text = [batch size, sent len]\n",
        "        embedded = self.embedding(text)\n",
        "        #embedded = [batch size, sent len, emb dim]\n",
        "\n",
        "        embedded = embedded.unsqueeze(1)\n",
        "        #embedded = [batch size, 1, sent len, emb dim]\n",
        "\n",
        "        conved = [F.relu(conv(embedded)).squeeze(3) for conv in self.convs]\n",
        "        #conved_n = [batch size, n_filters, sent len - filter_sizes[n] + 1]\n",
        "\n",
        "        pooled = [F.max_pool1d(conv, conv.shape[2]).squeeze(2) for conv in conved]\n",
        "        #pooled_n = [batch size, n_filters]\n",
        "\n",
        "        cat = self.dropout(torch.cat(pooled, dim = 1))\n",
        "        #cat = [batch size, n_filters * len(filter_sizes)]\n",
        "\n",
        "        return self.fc(cat)"
      ]
    },
    {
      "cell_type": "markdown",
      "metadata": {
        "id": "ClNS4xV1o7b6"
      },
      "source": [
        "### Using `nn.Conv1d`"
      ]
    },
    {
      "cell_type": "markdown",
      "metadata": {
        "id": "hUApYc4_o7b6"
      },
      "source": [
        "We can also implement the above model using 1-dimensional convolutional layers, where the embedding dimension is the \"depth\" of the filter and the number of tokens in the sentence is the width.\n",
        "\n",
        "\n",
        "We'll run our tests using the 2-dimensional convolutional model, but leave the implementation for the 1-dimensional model below."
      ]
    },
    {
      "cell_type": "code",
      "execution_count": null,
      "metadata": {
        "id": "tZzaaqMQo7b6"
      },
      "outputs": [],
      "source": [
        "class CNN1d(nn.Module):\n",
        "    def __init__(self, input_dim, emb_dim, output_dim, dropout, n_filters, filter_sizes):\n",
        "\n",
        "        super().__init__()\n",
        "        self.embedding = nn.Embedding(input_dim, emb_dim, padding_idx=pad_idx)\n",
        "        self.convs = nn.ModuleList([\n",
        "                                    nn.Conv1d(in_channels = emb_dim,\n",
        "                                              out_channels = n_filters,\n",
        "                                              kernel_size = fs)\n",
        "                                    for fs in filter_sizes\n",
        "                                    ])\n",
        "        self.fc = nn.Linear(len(filter_sizes) * n_filters, output_dim)\n",
        "        self.dropout = nn.Dropout(dropout)\n",
        "\n",
        "    def forward(self, text):\n",
        "        #text = [batch size, sent len]\n",
        "        embedded = self.embedding(text)\n",
        "\n",
        "        #embedded = [batch size, sent len, emb dim]\n",
        "        embedded = embedded.permute(0, 2, 1)\n",
        "        #embedded = [batch size, emb dim, sent len]\n",
        "\n",
        "        conved = [F.relu(conv(embedded)) for conv in self.convs]\n",
        "        #conved_n = [batch size, n_filters, sent len - filter_sizes[n] + 1]\n",
        "\n",
        "        pooled = [F.max_pool1d(conv, conv.shape[2]).squeeze(2) for conv in conved]\n",
        "        #pooled_n = [batch size, n_filters]\n",
        "\n",
        "        cat = self.dropout(torch.cat(pooled, dim = 1))\n",
        "        #cat = [batch size, n_filters * len(filter_sizes)]\n",
        "\n",
        "        return self.fc(cat)"
      ]
    },
    {
      "cell_type": "markdown",
      "metadata": {
        "id": "U8u8YbhLo7b6"
      },
      "source": [
        "## 2.3 Training"
      ]
    },
    {
      "cell_type": "code",
      "execution_count": null,
      "metadata": {
        "id": "4gAzmOVto7b6"
      },
      "outputs": [],
      "source": [
        "#explicitly initialize weights for better learning\n",
        "def initialize_weights(m):\n",
        "    if isinstance(m, nn.Linear):\n",
        "        nn.init.xavier_normal_(m.weight)\n",
        "        nn.init.zeros_(m.bias)\n",
        "    elif isinstance(m, (nn.Conv2d, nn.Conv2d)):\n",
        "        for name, param in m.named_parameters():\n",
        "            if 'bias' in name:\n",
        "                nn.init.zeros_(param)\n",
        "            elif 'weight' in name:\n",
        "                nn.init.kaiming_normal_(param)"
      ]
    },
    {
      "cell_type": "code",
      "execution_count": null,
      "metadata": {
        "colab": {
          "base_uri": "https://localhost:8080/"
        },
        "id": "2FSNvadho7b6",
        "outputId": "9c5c332d-aa06-4863-fbd2-c9609180f3a5"
      },
      "outputs": [
        {
          "output_type": "execute_result",
          "data": {
            "text/plain": [
              "tensor([[ 0.2358,  0.4373,  0.8106,  0.4211,  0.4758],\n",
              "        [-0.8695, -0.8312, -0.5515, -0.3698, -0.7296],\n",
              "        [-0.4725,  0.3364, -0.2376,  0.4562,  0.0035]])"
            ]
          },
          "metadata": {},
          "execution_count": 47
        }
      ],
      "source": [
        "w = torch.empty(3, 5)\n",
        "nn.init.kaiming_normal_(w) #using the Kaiming initialization with values from a normal distribution"
      ]
    },
    {
      "cell_type": "code",
      "execution_count": null,
      "metadata": {
        "id": "3Y68WmF-o7b7"
      },
      "outputs": [],
      "source": [
        "input_dim  = len(vocab)\n",
        "emb_dim    = 300\n",
        "output_dim = 4 #four classes\n",
        "\n",
        "#for cnn\n",
        "dropout = 0.5\n",
        "n_filters = 100\n",
        "filter_sizes = [3, 4, 5]\n",
        "\n",
        "model = CNN(input_dim, emb_dim, output_dim, dropout, n_filters, filter_sizes).to(device)\n",
        "model.apply(initialize_weights)\n",
        "model.embedding.weight.data = fast_embedding #applied the fast text embedding as the initial weights"
      ]
    },
    {
      "cell_type": "code",
      "execution_count": null,
      "metadata": {
        "colab": {
          "base_uri": "https://localhost:8080/"
        },
        "id": "CNFXdMjoo7b7",
        "outputId": "a14c3901-04b2-4ee4-dc92-963dfe466f31"
      },
      "outputs": [
        {
          "output_type": "stream",
          "name": "stdout",
          "text": [
            "11408100\n",
            " 90000\n",
            "   100\n",
            "120000\n",
            "   100\n",
            "150000\n",
            "   100\n",
            "  1200\n",
            "     4\n",
            "______\n",
            "11769604\n"
          ]
        }
      ],
      "source": [
        "#we can print the complexity by the number of parameters\n",
        "def count_parameters(model):\n",
        "    params = [p.numel() for p in model.parameters() if p.requires_grad]\n",
        "    for item in params:\n",
        "        print(f'{item:>6}')\n",
        "    print(f'______\\n{sum(params):>6}')\n",
        "\n",
        "count_parameters(model)"
      ]
    },
    {
      "cell_type": "markdown",
      "metadata": {
        "id": "WMi6z7Kzo7b7"
      },
      "source": [
        "The model has so many parameters!!!"
      ]
    },
    {
      "cell_type": "code",
      "execution_count": null,
      "metadata": {
        "id": "FVqxZHSEo7b7"
      },
      "outputs": [],
      "source": [
        "import torch.optim as optim\n",
        "\n",
        "lr=1e-3\n",
        "\n",
        "#training hyperparameters\n",
        "optimizer = optim.SGD(model.parameters(), lr=lr)\n",
        "criterion = nn.CrossEntropyLoss() #combine softmax with cross entropy"
      ]
    },
    {
      "cell_type": "code",
      "execution_count": null,
      "metadata": {
        "id": "w4VH6e8Ho7b7"
      },
      "outputs": [],
      "source": [
        "def accuracy(preds, y):\n",
        "\n",
        "    predicted = torch.max(preds.data, 1)[1]\n",
        "    batch_corr = (predicted == y).sum()\n",
        "    acc = batch_corr / len(y)\n",
        "\n",
        "    return acc"
      ]
    },
    {
      "cell_type": "code",
      "execution_count": null,
      "metadata": {
        "id": "w-5HNUGlo7b7"
      },
      "outputs": [],
      "source": [
        "def train(model, loader, optimizer, criterion, loader_length):\n",
        "    epoch_loss = 0\n",
        "    epoch_acc = 0\n",
        "    model.train() #useful for batchnorm and dropout\n",
        "\n",
        "    for i, (label, text) in enumerate(loader):\n",
        "        label = label.to(device) #(batch_size, )\n",
        "        text = text.to(device) #(batch_size, seq len)\n",
        "\n",
        "        #predict\n",
        "        predictions = model(text).squeeze(1) #output by the fc is (batch_size, 1), thus need to remove this 1\n",
        "\n",
        "        #calculate loss\n",
        "        loss = criterion(predictions, label)\n",
        "        acc  = accuracy(predictions, label)\n",
        "\n",
        "        #backprop\n",
        "        optimizer.zero_grad()\n",
        "        loss.backward()\n",
        "        optimizer.step()\n",
        "\n",
        "        epoch_loss += loss.item()\n",
        "        epoch_acc += acc.item()\n",
        "\n",
        "    return epoch_loss / loader_length, epoch_acc / loader_length"
      ]
    },
    {
      "cell_type": "code",
      "execution_count": null,
      "metadata": {
        "id": "IRT9PWajo7b7"
      },
      "outputs": [],
      "source": [
        "def evaluate(model, loader, criterion, loader_length):\n",
        "    epoch_loss = 0\n",
        "    epoch_acc = 0\n",
        "    model.eval()\n",
        "\n",
        "    with torch.no_grad():\n",
        "        for i, (label, text) in enumerate(loader):\n",
        "            label = label.to(device) #(batch_size, )\n",
        "            text  = text.to(device)  #(seq len, batch_size)\n",
        "\n",
        "            predictions = model(text).squeeze(1)\n",
        "\n",
        "            loss = criterion(predictions, label)\n",
        "            acc  = accuracy(predictions, label)\n",
        "\n",
        "            epoch_loss += loss.item()\n",
        "            epoch_acc += acc.item()\n",
        "\n",
        "    return epoch_loss / loader_length, epoch_acc / loader_length"
      ]
    },
    {
      "cell_type": "code",
      "execution_count": null,
      "metadata": {
        "colab": {
          "base_uri": "https://localhost:8080/"
        },
        "id": "oLNdPZJeo7b8",
        "outputId": "843ac51b-23fe-48e7-db67-15f171c181b0"
      },
      "outputs": [
        {
          "output_type": "stream",
          "name": "stderr",
          "text": [
            "/usr/local/lib/python3.10/dist-packages/torch/utils/data/datapipes/iter/combining.py:333: UserWarning: Some child DataPipes are not exhausted when __iter__ is called. We are resetting the buffer and each child DataPipe will read from the start again.\n",
            "  warnings.warn(\"Some child DataPipes are not exhausted when __iter__ is called. We are resetting \"\n"
          ]
        }
      ],
      "source": [
        "train_loader_length = len(list(iter(train_loader)))\n",
        "val_loader_length   = len(list(iter(valid_loader)))\n",
        "test_loader_length  = len(list(iter(test_loader)))"
      ]
    },
    {
      "cell_type": "code",
      "execution_count": null,
      "metadata": {
        "id": "znmOeavIo7b8"
      },
      "outputs": [],
      "source": [
        "def epoch_time(start_time, end_time):\n",
        "    elapsed_time = end_time - start_time\n",
        "    elapsed_mins = int(elapsed_time / 60)\n",
        "    elapsed_secs = int(elapsed_time - (elapsed_mins * 60))\n",
        "    return elapsed_mins, elapsed_secs"
      ]
    },
    {
      "cell_type": "code",
      "execution_count": null,
      "metadata": {
        "colab": {
          "base_uri": "https://localhost:8080/"
        },
        "id": "l3kQora1o7b8",
        "outputId": "c1c1a8f5-7522-4027-8bc0-dcae071c39bf"
      },
      "outputs": [
        {
          "output_type": "stream",
          "name": "stdout",
          "text": [
            "Epoch: 01 | Time: 2m 17s\n",
            "\tTrain Loss: 1.584 | Train Acc: 26.53%\n",
            "\t Val. Loss: 1.369 |  Val. Acc: 30.58%\n",
            "Epoch: 02 | Time: 2m 7s\n",
            "\tTrain Loss: 1.544 | Train Acc: 27.63%\n",
            "\t Val. Loss: 1.339 |  Val. Acc: 36.10%\n",
            "Epoch: 03 | Time: 2m 4s\n",
            "\tTrain Loss: 1.510 | Train Acc: 29.14%\n",
            "\t Val. Loss: 1.312 |  Val. Acc: 42.19%\n",
            "Epoch: 04 | Time: 2m 5s\n",
            "\tTrain Loss: 1.469 | Train Acc: 31.01%\n",
            "\t Val. Loss: 1.286 |  Val. Acc: 46.85%\n",
            "Epoch: 05 | Time: 2m 5s\n",
            "\tTrain Loss: 1.444 | Train Acc: 31.44%\n",
            "\t Val. Loss: 1.262 |  Val. Acc: 51.91%\n"
          ]
        }
      ],
      "source": [
        "best_valid_loss = float('inf')\n",
        "num_epochs      = 5\n",
        "\n",
        "save_path = f'{model.__class__.__name__}.pt'\n",
        "\n",
        "train_losses = []\n",
        "train_accs = []\n",
        "valid_losses = []\n",
        "valid_accs = []\n",
        "\n",
        "for epoch in range(num_epochs):\n",
        "\n",
        "    start_time = time.time()\n",
        "\n",
        "    train_loss, train_acc = train(model, train_loader, optimizer, criterion, train_loader_length)\n",
        "    valid_loss, valid_acc = evaluate(model, valid_loader, criterion, val_loader_length)\n",
        "\n",
        "    #for plotting\n",
        "    train_losses.append(train_loss)\n",
        "    train_accs.append(train_acc)\n",
        "    valid_losses.append(valid_loss)\n",
        "    valid_accs.append(valid_acc)\n",
        "\n",
        "    end_time = time.time()\n",
        "\n",
        "    epoch_mins, epoch_secs = epoch_time(start_time, end_time)\n",
        "\n",
        "    if valid_loss < best_valid_loss:\n",
        "        best_valid_loss = valid_loss\n",
        "        torch.save(model.state_dict(), save_path)\n",
        "\n",
        "    print(f'Epoch: {epoch+1:02} | Time: {epoch_mins}m {epoch_secs}s')\n",
        "    print(f'\\tTrain Loss: {train_loss:.3f} | Train Acc: {train_acc*100:.2f}%')\n",
        "    print(f'\\t Val. Loss: {valid_loss:.3f} |  Val. Acc: {valid_acc*100:.2f}%')"
      ]
    },
    {
      "cell_type": "markdown",
      "source": [
        "## 2.4 Plotting loss and accuracy"
      ],
      "metadata": {
        "id": "RSl_xFwH-yu0"
      }
    },
    {
      "cell_type": "code",
      "execution_count": null,
      "metadata": {
        "colab": {
          "base_uri": "https://localhost:8080/",
          "height": 565
        },
        "id": "wQzTvZgBo7b8",
        "outputId": "4ab67761-4da6-4f02-be71-3d2b66bd3738"
      },
      "outputs": [
        {
          "output_type": "execute_result",
          "data": {
            "text/plain": [
              "Text(0, 0.5, 'loss')"
            ]
          },
          "metadata": {},
          "execution_count": 57
        },
        {
          "output_type": "display_data",
          "data": {
            "text/plain": [
              "<Figure size 1000x600 with 1 Axes>"
            ],
            "image/png": "[encoded data removed]"
          },
          "metadata": {}
        }
      ],
      "source": [
        "import matplotlib.pyplot as plt\n",
        "fig = plt.figure(figsize=(10, 6))\n",
        "ax = fig.add_subplot(1, 1, 1)\n",
        "ax.plot(train_losses, label = 'train loss')\n",
        "ax.plot(valid_losses, label = 'valid loss')\n",
        "plt.legend()\n",
        "ax.set_xlabel('updates')\n",
        "ax.set_ylabel('loss')"
      ]
    },
    {
      "cell_type": "code",
      "execution_count": null,
      "metadata": {
        "colab": {
          "base_uri": "https://localhost:8080/",
          "height": 560
        },
        "id": "Qrqb4HRUo7b8",
        "outputId": "b0d06b0d-5c2f-4c1a-af89-a20291cdef7a"
      },
      "outputs": [
        {
          "output_type": "execute_result",
          "data": {
            "text/plain": [
              "Text(0, 0.5, 'acc')"
            ]
          },
          "metadata": {},
          "execution_count": 58
        },
        {
          "output_type": "display_data",
          "data": {
            "text/plain": [
              "<Figure size 1000x600 with 1 Axes>"
            ],
            "image/png": "[encoded data removed]"
          },
          "metadata": {}
        }
      ],
      "source": [
        "fig = plt.figure(figsize=(10, 6))\n",
        "ax = fig.add_subplot(1, 1, 1)\n",
        "ax.plot(train_accs, label = 'train acc')\n",
        "ax.plot(valid_accs, label = 'valid acc')\n",
        "plt.legend()\n",
        "ax.set_xlabel('updates')\n",
        "ax.set_ylabel('acc')"
      ]
    },
    {
      "cell_type": "code",
      "execution_count": null,
      "metadata": {
        "colab": {
          "base_uri": "https://localhost:8080/"
        },
        "id": "tkbl38rHo7b8",
        "outputId": "b3cb28d1-a60b-48fe-ef34-cec3368b2222"
      },
      "outputs": [
        {
          "output_type": "stream",
          "name": "stdout",
          "text": [
            "Test Loss: 1.263 | Test Acc: 52.80%\n"
          ]
        }
      ],
      "source": [
        "model.load_state_dict(torch.load(save_path))\n",
        "\n",
        "test_loss, test_acc = evaluate(model, test_loader, criterion, test_loader_length)\n",
        "\n",
        "print(f'Test Loss: {test_loss:.3f} | Test Acc: {test_acc*100:.2f}%')"
      ]
    },
    {
      "cell_type": "markdown",
      "metadata": {
        "id": "eOx8vUrmo7b9"
      },
      "source": [
        "## 2.5 Testing on some random news"
      ]
    },
    {
      "cell_type": "code",
      "execution_count": null,
      "metadata": {
        "colab": {
          "base_uri": "https://localhost:8080/"
        },
        "id": "mhkutXTQo7b9",
        "outputId": "d9be5b5d-2a52-4e7d-a9c3-722590b06bff"
      },
      "outputs": [
        {
          "output_type": "execute_result",
          "data": {
            "text/plain": [
              "tensor([ 180,   28,  250, 1996, 8501,    6,   21,  424,   28, 2231, 1562,  250,\n",
              "           6])"
            ]
          },
          "metadata": {},
          "execution_count": 60
        }
      ],
      "source": [
        "test_str = \"Google is now falling nonstop. The price is really bad now.\"\n",
        "text = torch.tensor(text_pipeline(test_str)).to(device)\n",
        "text"
      ]
    },
    {
      "cell_type": "code",
      "execution_count": null,
      "metadata": {
        "colab": {
          "base_uri": "https://localhost:8080/"
        },
        "id": "gbI4Pf7do7b9",
        "outputId": "3f645ae8-2ce9-4345-b505-55e8f5f6ae70"
      },
      "outputs": [
        {
          "output_type": "execute_result",
          "data": {
            "text/plain": [
              "[180, 28, 250, 1996, 8501, 6, 21, 424, 28, 2231, 1562, 250, 6]"
            ]
          },
          "metadata": {},
          "execution_count": 61
        }
      ],
      "source": [
        "text_list = [x.item() for x in text]\n",
        "text_list"
      ]
    },
    {
      "cell_type": "code",
      "execution_count": null,
      "metadata": {
        "colab": {
          "base_uri": "https://localhost:8080/"
        },
        "id": "lv3cYu97o7b9",
        "outputId": "21ad1923-1c29-466c-a1d5-83ec91866392"
      },
      "outputs": [
        {
          "output_type": "execute_result",
          "data": {
            "text/plain": [
              "['Google',\n",
              " 'is',\n",
              " 'now',\n",
              " 'falling',\n",
              " 'nonstop',\n",
              " '.',\n",
              " 'The',\n",
              " 'price',\n",
              " 'is',\n",
              " 'really',\n",
              " 'bad',\n",
              " 'now',\n",
              " '.']"
            ]
          },
          "metadata": {},
          "execution_count": 62
        }
      ],
      "source": [
        "[mapping[num] for num in text_list]"
      ]
    },
    {
      "cell_type": "code",
      "execution_count": null,
      "metadata": {
        "id": "86HN9JKEo7b9"
      },
      "outputs": [],
      "source": [
        "text = text.reshape(1, -1)  #because batch_size is 1"
      ]
    },
    {
      "cell_type": "code",
      "execution_count": null,
      "metadata": {
        "colab": {
          "base_uri": "https://localhost:8080/"
        },
        "id": "1S8VuEt3o7b9",
        "outputId": "354ceee7-e797-4f62-bdcf-2f956418ef6a"
      },
      "outputs": [
        {
          "output_type": "execute_result",
          "data": {
            "text/plain": [
              "torch.Size([1, 13])"
            ]
          },
          "metadata": {},
          "execution_count": 64
        }
      ],
      "source": [
        "text.shape"
      ]
    },
    {
      "cell_type": "code",
      "execution_count": null,
      "metadata": {
        "id": "VM28gPJ1o7b9"
      },
      "outputs": [],
      "source": [
        "def predict(text):\n",
        "    with torch.no_grad():\n",
        "        output = model(text).squeeze(1)\n",
        "        predicted = torch.max(output.data, 1)[1]\n",
        "        return predicted"
      ]
    },
    {
      "cell_type": "code",
      "execution_count": null,
      "metadata": {
        "colab": {
          "base_uri": "https://localhost:8080/"
        },
        "id": "crI268zMo7b-",
        "outputId": "8f545e4a-4748-4099-dae4-022d6550e58d"
      },
      "outputs": [
        {
          "output_type": "execute_result",
          "data": {
            "text/plain": [
              "tensor([1])"
            ]
          },
          "metadata": {},
          "execution_count": 66
        }
      ],
      "source": [
        "predict(text) #1=sports"
      ]
    }
  ],
  "metadata": {
    "kernelspec": {
      "display_name": "Python 3",
      "name": "python3"
    },
    "language_info": {
      "codemirror_mode": {
        "name": "ipython",
        "version": 3
      },
      "file_extension": ".py",
      "mimetype": "text/x-python",
      "name": "python",
      "nbconvert_exporter": "python",
      "pygments_lexer": "ipython3",
      "version": "3.9.6"
    },
    "vscode": {
      "interpreter": {
        "hash": "714d3f4db9a58ba7d2f2a9a4fffe577af3df8551aebd380095064812e2e0a6a4"
      }
    },
    "colab": {
      "provenance": [],
      "gpuType": "T4"
    },
    "accelerator": "GPU"
  },
  "nbformat": 4,
  "nbformat_minor": 0
}